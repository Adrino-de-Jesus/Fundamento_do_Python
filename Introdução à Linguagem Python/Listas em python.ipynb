{
  "cells": [
    {
      "cell_type": "markdown",
      "metadata": {
        "id": "xPFPDPIPGR3_"
      },
      "source": [
        "# Necessidade de se trabalhar com listas\n",
        "A necessidade se dá pela repetição constante de varios valores do mesmo tipo, onde precisamos de uma maneira mais fácil de trabalhar com tais valores"
      ]
    },
    {
      "cell_type": "code",
      "execution_count": null,
      "metadata": {
        "id": "ortMJn2BGR4S",
        "outputId": "37b2d776-7b62-4cdc-f091-64ca24f706ef"
      },
      "outputs": [
        {
          "name": "stdout",
          "output_type": "stream",
          "text": [
            "60\n"
          ]
        }
      ],
      "source": [
        "def main():\n",
        "    num1 = 10\n",
        "    num2 = 11\n",
        "    num3 = 12\n",
        "    num4 = 13\n",
        "    num5 = 14\n",
        "    soma = num1 + num2 + num3 + num4 + num5\n",
        "    print(soma)\n",
        "    \n",
        "main()"
      ]
    },
    {
      "cell_type": "code",
      "execution_count": null,
      "metadata": {
        "id": "kmovQi4hGR4Y",
        "outputId": "51795b13-bbb2-4b84-e499-0db5c0ce1692"
      },
      "outputs": [
        {
          "name": "stdout",
          "output_type": "stream",
          "text": [
            "145\n"
          ]
        }
      ],
      "source": [
        "def main():\n",
        "    num1 = 10\n",
        "    num2 = 11\n",
        "    num3 = 12\n",
        "    num4 = 13\n",
        "    num5 = 14\n",
        "    num6 = 15\n",
        "    num7 = 16\n",
        "    num8 = 17\n",
        "    num9 = 18\n",
        "    num10 = 19\n",
        "    soma = num1 + num2 + num3 + num4 + num5 + num6 + num7 + num8 + num9 + num10\n",
        "    print(soma)\n",
        "    \n",
        "main()"
      ]
    },
    {
      "cell_type": "code",
      "execution_count": null,
      "metadata": {
        "id": "bBanxz18GR4Z",
        "outputId": "55f022fc-f4b0-4fe4-c2b6-70b5cd33c143"
      },
      "outputs": [
        {
          "name": "stdout",
          "output_type": "stream",
          "text": [
            "O aluno1 (Felipe) ficou com a média de 9.0\n",
            "O aluno2 (Alisson) ficou com a média de 8.5\n",
            "O aluno3 (Haynes) ficou com a média de 8.5\n"
          ]
        }
      ],
      "source": [
        "def main():\n",
        "    aluno1 = 'Felipe'\n",
        "    aluno2 = 'Alisson'\n",
        "    aluno3 = 'Haynes'\n",
        "    prova1_1 = 8\n",
        "    prova2_1 = 10\n",
        "    prova1_2 = 10\n",
        "    prova2_2 = 7\n",
        "    prova1_3 = 8\n",
        "    prova2_3 = 9\n",
        "    media1 = (prova1_1 + prova2_1) / 2\n",
        "    media2 = (prova1_2 + prova2_2) / 2\n",
        "    media3 = (prova1_3 + prova2_3) / 2\n",
        "    print(f\"O aluno1 ({aluno1}) ficou com a média de {media1}\")\n",
        "    print(f\"O aluno2 ({aluno2}) ficou com a média de {media2}\")\n",
        "    print(f\"O aluno3 ({aluno3}) ficou com a média de {media3}\")\n",
        "    \n",
        "main()"
      ]
    },
    {
      "cell_type": "markdown",
      "metadata": {
        "id": "rM7x871cGR4e"
      },
      "source": [
        "**Motivação das listas**\n",
        "Trabalhar com vários valores relacionados em uma só variável"
      ]
    },
    {
      "cell_type": "code",
      "execution_count": null,
      "metadata": {
        "id": "YWPOEeL0GR4f"
      },
      "outputs": [],
      "source": [
        "def main():\n",
        "    # Todos os possiveis alunos\n",
        "    # Felipe, Alisson, Haynes, ByLearner\n",
        "    # As notas respectivas dos alunos\n",
        "    # 8 e 10, 10 e 7, 8 e 9, 10 e 10\n",
        "    \n",
        "    # Media de [Primeiro Aluno] = [Notas do 1º] / 2\n",
        "    # Para todos -> Media do [Atual] = [Notas do Atual] /2\n",
        "    pass\n",
        "\n",
        "main()"
      ]
    },
    {
      "cell_type": "markdown",
      "metadata": {
        "id": "4PfbR-WlGR4g"
      },
      "source": [
        "# Criando listas\n",
        "Listas são tipos de dados que armazenam vários valores em uma variável só.  \n",
        "Em listas, nós trabalhos com índices.  \n",
        "**índices começam sempre por zero**"
      ]
    },
    {
      "cell_type": "code",
      "execution_count": null,
      "metadata": {
        "id": "5j0FR9gXGR4h",
        "outputId": "3d2c9d95-1162-4df8-cbdc-a88fc81f9098"
      },
      "outputs": [
        {
          "name": "stdout",
          "output_type": "stream",
          "text": [
            "Felipe\n",
            "Alisson\n",
            "Haynes\n",
            "ByLearner\n"
          ]
        }
      ],
      "source": [
        "primeira_lista = ['Felipe', 'Alisson', 'Haynes', 'ByLearner']\n",
        "#------Posição------ 1º ------ 2º ------- 3º ------ 4º ------\n",
        "#------Índice--------0---------1----------2---------3--------\n",
        "print(primeira_lista[0])\n",
        "print(primeira_lista[1])\n",
        "print(primeira_lista[2])\n",
        "print(primeira_lista[3])"
      ]
    },
    {
      "cell_type": "code",
      "execution_count": null,
      "metadata": {
        "id": "KArA_UtOGR4j",
        "outputId": "9a193747-f282-44be-82ba-ea31fb4c0c7f"
      },
      "outputs": [
        {
          "ename": "IndexError",
          "evalue": "list index out of range",
          "output_type": "error",
          "traceback": [
            "\u001b[1;31m---------------------------------------------------------------------------\u001b[0m",
            "\u001b[1;31mIndexError\u001b[0m                                Traceback (most recent call last)",
            "\u001b[1;32m<ipython-input-10-c3fab2670192>\u001b[0m in \u001b[0;36m<module>\u001b[1;34m\u001b[0m\n\u001b[1;32m----> 1\u001b[1;33m \u001b[0mprint\u001b[0m\u001b[1;33m(\u001b[0m\u001b[0mprimeira_lista\u001b[0m\u001b[1;33m[\u001b[0m\u001b[1;36m4\u001b[0m\u001b[1;33m]\u001b[0m\u001b[1;33m)\u001b[0m \u001b[1;31m# Erro devido a essa posição não existir\u001b[0m\u001b[1;33m\u001b[0m\u001b[1;33m\u001b[0m\u001b[0m\n\u001b[0m",
            "\u001b[1;31mIndexError\u001b[0m: list index out of range"
          ]
        }
      ],
      "source": [
        "print(primeira_lista[4]) # Erro devido a essa posição não existir"
      ]
    },
    {
      "cell_type": "code",
      "execution_count": null,
      "metadata": {
        "id": "ExJ03rqIGR4l"
      },
      "outputs": [],
      "source": [
        "primeira_lista[2] = 'Guilherme'"
      ]
    },
    {
      "cell_type": "code",
      "execution_count": null,
      "metadata": {
        "id": "E8jYrH_1GR4m",
        "outputId": "eb1559a5-08da-434c-fb95-19e73d25e404"
      },
      "outputs": [
        {
          "name": "stdout",
          "output_type": "stream",
          "text": [
            "Felipe\n",
            "Alisson\n",
            "Guilherme\n",
            "ByLearner\n"
          ]
        }
      ],
      "source": [
        "print(primeira_lista[0])\n",
        "print(primeira_lista[1])\n",
        "print(primeira_lista[2])\n",
        "print(primeira_lista[3])"
      ]
    },
    {
      "cell_type": "code",
      "execution_count": null,
      "metadata": {
        "id": "fpIpF5zdGR4n",
        "outputId": "ce6da32a-34be-42a9-f827-23ef3ad6d15c"
      },
      "outputs": [
        {
          "name": "stdout",
          "output_type": "stream",
          "text": [
            "['Felipe', 'Alisson', 'Guilherme', 'ByLearner']\n"
          ]
        }
      ],
      "source": [
        "print(primeira_lista)"
      ]
    },
    {
      "cell_type": "markdown",
      "metadata": {
        "id": "kzTtII6AGR4n"
      },
      "source": [
        "## Tentativa de adicionar na lista"
      ]
    },
    {
      "cell_type": "code",
      "execution_count": null,
      "metadata": {
        "scrolled": true,
        "id": "kt13Od3EGR4o",
        "outputId": "9c17a6b9-58d5-4640-d32c-81e915b74bc1"
      },
      "outputs": [
        {
          "ename": "IndexError",
          "evalue": "list assignment index out of range",
          "output_type": "error",
          "traceback": [
            "\u001b[1;31m---------------------------------------------------------------------------\u001b[0m",
            "\u001b[1;31mIndexError\u001b[0m                                Traceback (most recent call last)",
            "\u001b[1;32m<ipython-input-15-53143b759cf9>\u001b[0m in \u001b[0;36m<module>\u001b[1;34m\u001b[0m\n\u001b[1;32m----> 1\u001b[1;33m \u001b[0mprimeira_lista\u001b[0m\u001b[1;33m[\u001b[0m\u001b[1;36m4\u001b[0m\u001b[1;33m]\u001b[0m \u001b[1;33m=\u001b[0m \u001b[1;34m'Novo Aluno'\u001b[0m \u001b[1;31m# Não é assim que acrescentamos dados, pois a posição não existe\u001b[0m\u001b[1;33m\u001b[0m\u001b[1;33m\u001b[0m\u001b[0m\n\u001b[0m",
            "\u001b[1;31mIndexError\u001b[0m: list assignment index out of range"
          ]
        }
      ],
      "source": [
        "primeira_lista[4] = 'Novo Aluno' # Não é assim que acrescentamos dados, pois a posição não existe"
      ]
    },
    {
      "cell_type": "code",
      "execution_count": null,
      "metadata": {
        "id": "yyBk0XOGGR4o"
      },
      "outputs": [],
      "source": [
        "primeira_lista.append('Novo Aluno')"
      ]
    },
    {
      "cell_type": "code",
      "execution_count": null,
      "metadata": {
        "id": "-goER23aGR4p",
        "outputId": "62c7d643-33b8-422e-f5fc-a0dec77efbf5"
      },
      "outputs": [
        {
          "name": "stdout",
          "output_type": "stream",
          "text": [
            "['Felipe', 'Alisson', 'Guilherme', 'ByLearner', 'Novo Aluno']\n"
          ]
        }
      ],
      "source": [
        "print(primeira_lista)"
      ]
    },
    {
      "cell_type": "markdown",
      "metadata": {
        "id": "fiY8nw7QGR4p"
      },
      "source": [
        "**Conclusão:** Adicionamos itens na lista através do método append"
      ]
    },
    {
      "cell_type": "markdown",
      "metadata": {
        "id": "UQcFGQIbGR4p"
      },
      "source": [
        "## Métodos alternativos de criar listas"
      ]
    },
    {
      "cell_type": "code",
      "execution_count": null,
      "metadata": {
        "id": "eDdU5mz4GR4q"
      },
      "outputs": [],
      "source": [
        "lista = [1,2,3,4]\n",
        "\n",
        "lista2 = ['a','b','c']\n",
        "\n",
        "lista3 = ['a','b',2,3]\n",
        "\n",
        "lista_alunos = []\n",
        "\n"
      ]
    },
    {
      "cell_type": "markdown",
      "metadata": {
        "id": "8MqsktLvGR4s"
      },
      "source": [
        "Funções built in são funções externas"
      ]
    },
    {
      "cell_type": "code",
      "execution_count": null,
      "metadata": {
        "id": "BYnydAK_GR4t"
      },
      "outputs": [],
      "source": [
        "lista_built_in = list() # equivale a lista = []\n",
        "variavel_para_lista = 12\n",
        "lista_built_in_cheia = list(['a',2,variavel_para_lista])"
      ]
    },
    {
      "cell_type": "markdown",
      "metadata": {
        "id": "65POwZnsGR4v"
      },
      "source": [
        "## Copiando uma lista para outra (atribuindo o valor)\n",
        "A lista B passa a Referenciar a lista A, então, uma alteração na B também altera a A (e vice-versa)"
      ]
    },
    {
      "cell_type": "code",
      "execution_count": null,
      "metadata": {
        "id": "HG46GbAEGR4v",
        "outputId": "e0140d87-b839-4c09-988b-5eb63d5e460a"
      },
      "outputs": [
        {
          "name": "stdout",
          "output_type": "stream",
          "text": [
            "[1, 2, 3, 4]\n",
            "[1, 2, 3, 4]\n"
          ]
        }
      ],
      "source": [
        "lista_a = [1,2,3]\n",
        "lista_b = lista_a\n",
        "lista_b.append(4)\n",
        "print(lista_a)\n",
        "print(lista_b)"
      ]
    },
    {
      "cell_type": "markdown",
      "metadata": {
        "id": "CltmsA4yGR4w"
      },
      "source": [
        "## Clonar uma lista (passar os valores dela) para outra\n",
        "Quando trabalhamos com colchetes ([]) trabalhamos com os elementos da lista, e não com o objeto dela"
      ]
    },
    {
      "cell_type": "code",
      "execution_count": null,
      "metadata": {
        "id": "WRLANFFCGR4x",
        "outputId": "8803bc1d-8b54-439d-e7ff-ea59c166277c"
      },
      "outputs": [
        {
          "name": "stdout",
          "output_type": "stream",
          "text": [
            "[1, 2, 3]\n",
            "[1, 2, 3, 4]\n"
          ]
        }
      ],
      "source": [
        "lista_a = [1,2,3]\n",
        "lista_b = lista_a[:]\n",
        "lista_b.append(4)\n",
        "print(lista_a)\n",
        "print(lista_b)"
      ]
    },
    {
      "cell_type": "markdown",
      "metadata": {
        "id": "frTMXZ94GR4x"
      },
      "source": [
        "## Recuperando elementos da lista\n",
        "Para pegar um valor da lista, usamos o índice do elemento que queremos"
      ]
    },
    {
      "cell_type": "code",
      "execution_count": null,
      "metadata": {
        "id": "m0GK1tMcGR4x",
        "outputId": "ebccf3ae-96bb-4681-9dca-cc5cdf119d04"
      },
      "outputs": [
        {
          "name": "stdout",
          "output_type": "stream",
          "text": [
            "1\n",
            "2\n",
            "3\n"
          ]
        }
      ],
      "source": [
        "lista_a = [1,2,3]\n",
        "elemento1 = lista_a[0]\n",
        "elemento2 = lista_a[1]\n",
        "elemento3 = lista_a[2]\n",
        "print(elemento1)\n",
        "print(elemento2)\n",
        "print(elemento3)"
      ]
    },
    {
      "cell_type": "markdown",
      "metadata": {
        "id": "GO4qNb39GR4y"
      },
      "source": [
        "Para recuperarmos com mais de um elemento, vamos pegar uma **fatia** da lista  \n",
        "Fatia funciona da seguinte maneira:  \n",
        "- Nós queremos da posição X até a posição Y\n",
        "- Então nós queremos [X:Y]\n",
        "- Ou seja... [Inicial : Final]"
      ]
    },
    {
      "cell_type": "markdown",
      "metadata": {
        "id": "G40MA5e9GR4y"
      },
      "source": [
        " - Caso não tenha um dos valores na fatia, pegaremos TUDO daquele 'lado'\n",
        " Exemplo:\n",
        " - Para lista[1:4] -> Pegamos elementos entre 1 e 4\n",
        " - Para listas[:4] -> Pegamos elementos até 4\n",
        " - Para listas[2:] -> Pegamos elementos a partir do 2"
      ]
    },
    {
      "cell_type": "code",
      "execution_count": null,
      "metadata": {
        "id": "K4YoASheGR4y"
      },
      "outputs": [],
      "source": [
        "lista = [0,1,2,3,4,5,6,7,8,9,10]\n",
        "primeiro_teste = lista[1:4] # Entre 1 e 4\n",
        "segundo_teste = lista[:4] # Até 4\n",
        "terceiro_teste = lista[2:] # A partir de 2"
      ]
    },
    {
      "cell_type": "code",
      "execution_count": null,
      "metadata": {
        "id": "B2M4MvE1GR4z",
        "outputId": "4bbeadd3-49da-4ccb-e662-2aa5269f26d6"
      },
      "outputs": [
        {
          "name": "stdout",
          "output_type": "stream",
          "text": [
            "[1, 2, 3]\n",
            "[0, 1, 2, 3]\n",
            "[2, 3, 4, 5, 6, 7, 8, 9, 10]\n"
          ]
        }
      ],
      "source": [
        "print(primeiro_teste)\n",
        "print(segundo_teste)\n",
        "print(terceiro_teste)"
      ]
    },
    {
      "cell_type": "markdown",
      "metadata": {
        "id": "jIVqk7UOGR4z"
      },
      "source": [
        "### Sempre que trabalhamos com Intervalos (range) o limite inferior é INCLUSIVO e o superior é EXCLUSIVO\n",
        "De maneira informal: O primeiro valor (menor) entra no intervalo, já o ultimo valor (maior) não entra"
      ]
    },
    {
      "cell_type": "code",
      "execution_count": null,
      "metadata": {
        "id": "DArQbFz5GR4z"
      },
      "outputs": [],
      "source": [
        "# 1 até 4\n",
        "# 1, 2 e 3\n",
        "# 2 até o fim (5 elementos)\n",
        "# 2, 3, 4 e 5\n",
        "# até 5\n",
        "# 0, 1, 2, 3, 4"
      ]
    },
    {
      "cell_type": "code",
      "execution_count": null,
      "metadata": {
        "id": "qgozClyZGR4z"
      },
      "outputs": [],
      "source": [
        "lista_a = [1,2,3]\n",
        "lista_b = lista_a[:] # De tudo : Até tudo = Todos"
      ]
    },
    {
      "cell_type": "markdown",
      "metadata": {
        "id": "KyHhGfj3GR40"
      },
      "source": [
        "A fatia [:] significa 'pegue tudo da lista'"
      ]
    },
    {
      "cell_type": "markdown",
      "metadata": {
        "id": "ThMC9fdlGR40"
      },
      "source": [
        "## Juntando listas (join)\n",
        "Serve para 'somar' (juntar) duas ou mais listas"
      ]
    },
    {
      "cell_type": "code",
      "execution_count": null,
      "metadata": {
        "id": "WzvoN_SlGR40",
        "outputId": "4b525c12-0a41-48fa-f39d-b4c994ab7734"
      },
      "outputs": [
        {
          "name": "stdout",
          "output_type": "stream",
          "text": [
            "[1, 2, 3, 10, 9, 8, 10]\n"
          ]
        }
      ],
      "source": [
        "ids_instrutores = [1,2,3]\n",
        "ids_alunos_py = [10,9]\n",
        "ids_alunos_csharp = [8,10]\n",
        "\n",
        "ids_bylearners = ids_instrutores + ids_alunos_py\n",
        "print(ids_bylearners)"
      ]
    },
    {
      "cell_type": "code",
      "execution_count": null,
      "metadata": {
        "id": "UKJYqGrVGR40",
        "outputId": "26629ceb-9455-480b-d8a1-0d59fed0641c"
      },
      "outputs": [
        {
          "name": "stdout",
          "output_type": "stream",
          "text": [
            "[1, 2, 3, 10, 9, 8, 10]\n"
          ]
        }
      ],
      "source": [
        "ids_bylearners += ids_alunos_csharp\n",
        "print(ids_bylearners)"
      ]
    },
    {
      "cell_type": "code",
      "execution_count": null,
      "metadata": {
        "id": "p4edBY87GR41",
        "outputId": "5399e813-99e2-41cb-f2d9-ea95b381a693"
      },
      "outputs": [
        {
          "name": "stdout",
          "output_type": "stream",
          "text": [
            "[1, 2, 3, 10, 9, 8, 10]\n"
          ]
        }
      ],
      "source": [
        "ids_instrutores = [1,2,3]\n",
        "ids_alunos_py = [10,9]\n",
        "ids_alunos_csharp = [8,10]\n",
        "\n",
        "ids_bylearners = ids_instrutores + ids_alunos_py + ids_alunos_csharp\n",
        "print(ids_bylearners)"
      ]
    },
    {
      "cell_type": "markdown",
      "metadata": {
        "id": "ZjFO2OdCGR41"
      },
      "source": [
        "## Funções Nativas para listas"
      ]
    },
    {
      "cell_type": "markdown",
      "metadata": {
        "id": "2NVM8EVkGR41"
      },
      "source": [
        "**Primeira função:** append() => Insere um elemento no final na lista\n"
      ]
    },
    {
      "cell_type": "code",
      "execution_count": null,
      "metadata": {
        "id": "BE9cbJGcGR41",
        "outputId": "99789e28-430e-487c-9d03-71c1d9e90fac"
      },
      "outputs": [
        {
          "name": "stdout",
          "output_type": "stream",
          "text": [
            "['um', 'dois', 'tres', 'quatro']\n"
          ]
        }
      ],
      "source": [
        "numeros = ['um']\n",
        "numeros.append(\"dois\")\n",
        "numeros.append(\"tres\")\n",
        "numeros.append(\"quatro\")\n",
        "\n",
        "print(numeros)"
      ]
    },
    {
      "cell_type": "markdown",
      "metadata": {
        "id": "qgfjKj9xGR42"
      },
      "source": [
        "**Segunda função:** index() => Retorna o índice de um determinado elemento"
      ]
    },
    {
      "cell_type": "code",
      "execution_count": null,
      "metadata": {
        "id": "_cHW-aueGR42",
        "outputId": "ec693d7f-5351-48fa-8ad3-23d87129497d"
      },
      "outputs": [
        {
          "name": "stdout",
          "output_type": "stream",
          "text": [
            "2\n",
            "3\n"
          ]
        }
      ],
      "source": [
        "bylearners = ['Felipe','Alisson','Haynes','ByLearner <3']\n",
        "#--Indices------ 0 ------- 1 ------ 2 -------- 3 --------\n",
        "indice_haynes = bylearners.index('Haynes')\n",
        "\n",
        "print(indice_haynes)\n",
        "print(bylearners.index('ByLearner <3'))"
      ]
    },
    {
      "cell_type": "markdown",
      "metadata": {
        "id": "AptyQVMNGR42"
      },
      "source": [
        "**Extra:** In => Indica se o elemento está ou não na lista  \n",
        "                Checa a existência (ou não existência) do elemento"
      ]
    },
    {
      "cell_type": "code",
      "execution_count": null,
      "metadata": {
        "id": "Ckk3j9HSGR43",
        "outputId": "b0d4619d-48d8-4ef3-b59c-8958680621d9"
      },
      "outputs": [
        {
          "ename": "ValueError",
          "evalue": "'Aluno' is not in list",
          "output_type": "error",
          "traceback": [
            "\u001b[1;31m---------------------------------------------------------------------------\u001b[0m",
            "\u001b[1;31mValueError\u001b[0m                                Traceback (most recent call last)",
            "\u001b[1;32m<ipython-input-48-7fb48c99ae71>\u001b[0m in \u001b[0;36m<module>\u001b[1;34m\u001b[0m\n\u001b[1;32m----> 1\u001b[1;33m \u001b[0mbylearners\u001b[0m\u001b[1;33m.\u001b[0m\u001b[0mindex\u001b[0m\u001b[1;33m(\u001b[0m\u001b[1;34m'Aluno'\u001b[0m\u001b[1;33m)\u001b[0m\u001b[1;33m\u001b[0m\u001b[1;33m\u001b[0m\u001b[0m\n\u001b[0m",
            "\u001b[1;31mValueError\u001b[0m: 'Aluno' is not in list"
          ]
        }
      ],
      "source": [
        "bylearners.index('Aluno')"
      ]
    },
    {
      "cell_type": "code",
      "execution_count": null,
      "metadata": {
        "id": "Kza7-0LnGR43",
        "outputId": "eb17d2b2-8465-46ed-8520-aca6897243b8"
      },
      "outputs": [
        {
          "name": "stdout",
          "output_type": "stream",
          "text": [
            "False\n",
            "True\n",
            "True\n"
          ]
        }
      ],
      "source": [
        "print('Aluno' in bylearners)\n",
        "print('Felipe' in bylearners)\n",
        "print('ByLearner <3' in bylearners)"
      ]
    },
    {
      "cell_type": "markdown",
      "metadata": {
        "id": "SuQozDnKGR43"
      },
      "source": [
        "**Terceira função:** insert() => Inseri um elemento na lista em uma determinada posição"
      ]
    },
    {
      "cell_type": "code",
      "execution_count": null,
      "metadata": {
        "id": "hgPLiaeMGR44",
        "outputId": "e825ef26-a6db-4ce3-d73e-12c9845f74de"
      },
      "outputs": [
        {
          "name": "stdout",
          "output_type": "stream",
          "text": [
            "['Gato', 'Cachorro', 'Hamster', 'Furão']\n"
          ]
        }
      ],
      "source": [
        "animais = ['Gato','Cachorro','Hamster']\n",
        "animais.append('Furão')\n",
        "print(animais)"
      ]
    },
    {
      "cell_type": "code",
      "execution_count": null,
      "metadata": {
        "id": "KbJWJqY9GR44",
        "outputId": "44aa47d7-0226-4687-ef05-c17e9a65d612"
      },
      "outputs": [
        {
          "name": "stdout",
          "output_type": "stream",
          "text": [
            "['Gato', 'Furão', 'Cachorro', 'Hamster']\n"
          ]
        }
      ],
      "source": [
        "animais = ['Gato','Cachorro','Hamster']\n",
        "#------------0--------1---------2------\n",
        "animais.insert(1,'Furão')\n",
        "print(animais)"
      ]
    },
    {
      "cell_type": "markdown",
      "metadata": {
        "id": "tdmXj4hEGR44"
      },
      "source": [
        "**Quarta Função:** Remove => Remove um determinado elemento"
      ]
    },
    {
      "cell_type": "code",
      "execution_count": null,
      "metadata": {
        "id": "h-mF0KF6GR45",
        "outputId": "96384675-6571-452d-a399-0486921d16d9"
      },
      "outputs": [
        {
          "name": "stdout",
          "output_type": "stream",
          "text": [
            "['Gato', 'Furão', 'Hamster']\n"
          ]
        }
      ],
      "source": [
        "animais.remove('Cachorro')\n",
        "print(animais)"
      ]
    },
    {
      "cell_type": "markdown",
      "metadata": {
        "id": "g0b3mEZ7GR45"
      },
      "source": [
        "**Quinta Função:** Pop => Remove um elemento em um determinado indice  \n",
        "Pop interage com a lista, apenas removendo o elemento do indice enviado por parâmetro"
      ]
    },
    {
      "cell_type": "code",
      "execution_count": null,
      "metadata": {
        "id": "MLMb8hsWGR45",
        "outputId": "1215fa45-20d8-43dd-9e06-709bd8beed2a"
      },
      "outputs": [
        {
          "name": "stdout",
          "output_type": "stream",
          "text": [
            "['Gato', 'Furão', 'Hamster']\n"
          ]
        }
      ],
      "source": [
        "animais = ['Gato','Furão','Cachorro','Hamster']\n",
        "animais.pop(2)\n",
        "print(animais)"
      ]
    },
    {
      "cell_type": "code",
      "execution_count": null,
      "metadata": {
        "id": "LQYoDgUFGR46",
        "outputId": "8bbacb60-2c01-4304-eac3-2c09323b9968"
      },
      "outputs": [
        {
          "ename": "IndexError",
          "evalue": "pop index out of range",
          "output_type": "error",
          "traceback": [
            "\u001b[1;31m---------------------------------------------------------------------------\u001b[0m",
            "\u001b[1;31mIndexError\u001b[0m                                Traceback (most recent call last)",
            "\u001b[1;32m<ipython-input-64-5e7af14a4f5a>\u001b[0m in \u001b[0;36m<module>\u001b[1;34m\u001b[0m\n\u001b[1;32m----> 1\u001b[1;33m \u001b[0manimais\u001b[0m\u001b[1;33m.\u001b[0m\u001b[0mpop\u001b[0m\u001b[1;33m(\u001b[0m\u001b[1;36m5\u001b[0m\u001b[1;33m)\u001b[0m \u001b[1;31m# Temos que tomar cuidado com o limite dos indices\u001b[0m\u001b[1;33m\u001b[0m\u001b[1;33m\u001b[0m\u001b[0m\n\u001b[0m",
            "\u001b[1;31mIndexError\u001b[0m: pop index out of range"
          ]
        }
      ],
      "source": [
        "animais.pop(5) # Temos que tomar cuidado com o limite dos indices\n"
      ]
    },
    {
      "cell_type": "markdown",
      "metadata": {
        "id": "xR-weDbgGR46"
      },
      "source": [
        "**Sexta Função:** Del => Remove um elemento em um determinado indice  \n",
        "Remove o elemento passado por parâmetro (envio um elemento)"
      ]
    },
    {
      "cell_type": "code",
      "execution_count": null,
      "metadata": {
        "id": "xaDOiArCGR46",
        "outputId": "8e5c0cca-455e-45a5-fea6-628d1aaeb5fe"
      },
      "outputs": [
        {
          "name": "stdout",
          "output_type": "stream",
          "text": [
            "['Gato', 'Furão', 'Hamster']\n"
          ]
        }
      ],
      "source": [
        "animais = ['Gato','Furão','Cachorro','Hamster']\n",
        "del(animais[2])\n",
        "print(animais)"
      ]
    },
    {
      "cell_type": "code",
      "execution_count": null,
      "metadata": {
        "id": "ny-OirH8GR46",
        "outputId": "07d1eaa4-c630-46ec-ae74-65ad28d2e46a"
      },
      "outputs": [
        {
          "data": {
            "text/plain": [
              "'Cachorro'"
            ]
          },
          "execution_count": 67,
          "metadata": {},
          "output_type": "execute_result"
        }
      ],
      "source": [
        "animais = ['Gato','Furão','Cachorro','Hamster']\n",
        "animais[2]"
      ]
    },
    {
      "cell_type": "markdown",
      "metadata": {
        "id": "ghTRaZoEGR4_"
      },
      "source": [
        "**Sétima Função:** Sort => Ordena os nosos números  \n",
        "Também temos a função inter Sorted"
      ]
    },
    {
      "cell_type": "code",
      "execution_count": null,
      "metadata": {
        "id": "KUIqjdHZGR5B",
        "outputId": "fdeecea8-de58-42be-acad-3b7b8d00e94d"
      },
      "outputs": [
        {
          "name": "stdout",
          "output_type": "stream",
          "text": [
            "[2, 1, 4]\n",
            "[1, 2, 4]\n"
          ]
        }
      ],
      "source": [
        "lista = [2, 1, 4]\n",
        "print(lista)\n",
        "lista.sort()\n",
        "print(lista)"
      ]
    },
    {
      "cell_type": "code",
      "execution_count": null,
      "metadata": {
        "id": "fgelHnQjGR5C",
        "outputId": "0f18dd84-8330-455b-9ba2-384187398717"
      },
      "outputs": [
        {
          "name": "stdout",
          "output_type": "stream",
          "text": [
            "[1, 2, 4]\n"
          ]
        }
      ],
      "source": [
        "lista = [2, 1, 4]\n",
        "print(sorted(lista))"
      ]
    },
    {
      "cell_type": "code",
      "execution_count": null,
      "metadata": {
        "id": "Zb30actwGR5C",
        "outputId": "2db045b0-5970-49df-f6ae-3e1cc81109e9"
      },
      "outputs": [
        {
          "name": "stdout",
          "output_type": "stream",
          "text": [
            "None\n",
            "None\n"
          ]
        }
      ],
      "source": [
        "lista = [2, 1, 4]\n",
        "print(lista.sort()) # Interage diretamente na lista... Não retorna nada\n",
        "lista2 = lista.sort() # Não da para atribuir\n",
        "print(lista2)"
      ]
    },
    {
      "cell_type": "code",
      "execution_count": null,
      "metadata": {
        "id": "VKTwMyP7GR5D",
        "outputId": "36065ab4-355b-4b72-aa04-bc45eb9935e9"
      },
      "outputs": [
        {
          "name": "stdout",
          "output_type": "stream",
          "text": [
            "['a', 'b', 'c']\n",
            "['a', 'b', 'c']\n"
          ]
        }
      ],
      "source": [
        "lista = [\"c\",'b','a']\n",
        "print(sorted(lista)) # Sorted me retorna uma lista já ordenada\n",
        "lista2 = sorted(lista) # Consigo atribuir a lista\n",
        "print(lista2)"
      ]
    },
    {
      "cell_type": "code",
      "execution_count": null,
      "metadata": {
        "id": "XUUDpWq4GR5E",
        "outputId": "cd044c88-b53a-4467-901e-1e6367ad27ff"
      },
      "outputs": [
        {
          "name": "stdout",
          "output_type": "stream",
          "text": [
            "['1', '2', 'a', 'b', 'c']\n"
          ]
        }
      ],
      "source": [
        "lista = [\"c\",'b','a',str(1),str(2)]\n",
        "print(sorted(lista)) # Sorted me retorna uma lista já ordenada"
      ]
    },
    {
      "cell_type": "markdown",
      "metadata": {
        "id": "1bcdVjYEGR5G"
      },
      "source": [
        "**Oitava Função:** Len => Retorna o tamanho da lista"
      ]
    },
    {
      "cell_type": "code",
      "execution_count": null,
      "metadata": {
        "id": "PiCQcqFlGR5H",
        "outputId": "0007e9a3-3adb-4883-8e09-8ca9429e220b"
      },
      "outputs": [
        {
          "name": "stdout",
          "output_type": "stream",
          "text": [
            "5\n"
          ]
        }
      ],
      "source": [
        "ls = ['t','e','s','t','e']\n",
        "print(len(s))"
      ]
    },
    {
      "cell_type": "markdown",
      "metadata": {
        "id": "8SeH98HJGR5H"
      },
      "source": [
        "## Manipulação de String"
      ]
    },
    {
      "cell_type": "code",
      "execution_count": null,
      "metadata": {
        "id": "xrjZ2gGQGR5I"
      },
      "outputs": [],
      "source": [
        "# Caractere é uma letra só\n",
        "char = 'c'\n",
        "# String é um 'conjunto' de carecteres\n",
        "string_palavra = 'Felipe'\n",
        "string_frase = 'Seja um ByLearner'\n",
        "\n",
        "# Vetor (Array) => Sequencia de elementos do mesmo tipo\n",
        "# String é um Vetor (array) de caracteres\n"
      ]
    },
    {
      "cell_type": "code",
      "execution_count": null,
      "metadata": {
        "id": "R_K6SJBVGR5I",
        "outputId": "c497d790-ccf1-467e-a776-7fd72d9cd1c9"
      },
      "outputs": [
        {
          "name": "stdout",
          "output_type": "stream",
          "text": [
            "B\n",
            "y\n",
            "L\n",
            "e\n",
            "a\n",
            "r\n",
            "n\n"
          ]
        }
      ],
      "source": [
        "string = \"ByLearn\"\n",
        "#---------0123456\n",
        "print(string[0])\n",
        "print(string[1])\n",
        "print(string[2])\n",
        "print(string[3])\n",
        "print(string[4])\n",
        "print(string[5])\n",
        "print(string[6])"
      ]
    },
    {
      "cell_type": "code",
      "execution_count": null,
      "metadata": {
        "id": "MyK-dOR0GR5J",
        "outputId": "f22999b4-8ebe-40be-d4be-ebe34d60848f"
      },
      "outputs": [
        {
          "ename": "IndexError",
          "evalue": "string index out of range",
          "output_type": "error",
          "traceback": [
            "\u001b[1;31m---------------------------------------------------------------------------\u001b[0m",
            "\u001b[1;31mIndexError\u001b[0m                                Traceback (most recent call last)",
            "\u001b[1;32m<ipython-input-86-4058738c01cb>\u001b[0m in \u001b[0;36m<module>\u001b[1;34m\u001b[0m\n\u001b[0;32m      1\u001b[0m \u001b[0mstring\u001b[0m \u001b[1;33m=\u001b[0m \u001b[1;34m\"ByLearn\"\u001b[0m\u001b[1;33m\u001b[0m\u001b[1;33m\u001b[0m\u001b[0m\n\u001b[0;32m      2\u001b[0m \u001b[1;31m#---------0123456|7\u001b[0m\u001b[1;33m\u001b[0m\u001b[1;33m\u001b[0m\u001b[1;33m\u001b[0m\u001b[0m\n\u001b[1;32m----> 3\u001b[1;33m \u001b[0mprint\u001b[0m\u001b[1;33m(\u001b[0m\u001b[0mstring\u001b[0m\u001b[1;33m[\u001b[0m\u001b[1;36m7\u001b[0m\u001b[1;33m]\u001b[0m\u001b[1;33m)\u001b[0m \u001b[1;31m# Não existe\u001b[0m\u001b[1;33m\u001b[0m\u001b[1;33m\u001b[0m\u001b[0m\n\u001b[0m",
            "\u001b[1;31mIndexError\u001b[0m: string index out of range"
          ]
        }
      ],
      "source": [
        "string = \"ByLearn\"\n",
        "#---------0123456|7\n",
        "print(string[7]) # Não existe"
      ]
    },
    {
      "cell_type": "markdown",
      "metadata": {
        "id": "OncYyjbOGR5K"
      },
      "source": [
        "**Strings são imutáveis**"
      ]
    },
    {
      "cell_type": "code",
      "execution_count": null,
      "metadata": {
        "id": "jyounBiwGR5K",
        "outputId": "8b9a8e6e-58c7-45b4-8e69-e39be271aeb9"
      },
      "outputs": [
        {
          "ename": "TypeError",
          "evalue": "'str' object does not support item assignment",
          "output_type": "error",
          "traceback": [
            "\u001b[1;31m---------------------------------------------------------------------------\u001b[0m",
            "\u001b[1;31mTypeError\u001b[0m                                 Traceback (most recent call last)",
            "\u001b[1;32m<ipython-input-88-2f5dc3c312e6>\u001b[0m in \u001b[0;36m<module>\u001b[1;34m\u001b[0m\n\u001b[0;32m      1\u001b[0m \u001b[0mpalavra\u001b[0m \u001b[1;33m=\u001b[0m \u001b[1;34m\"teste\"\u001b[0m\u001b[1;33m\u001b[0m\u001b[1;33m\u001b[0m\u001b[0m\n\u001b[1;32m----> 2\u001b[1;33m \u001b[0mpalavra\u001b[0m\u001b[1;33m[\u001b[0m\u001b[1;36m2\u001b[0m\u001b[1;33m]\u001b[0m \u001b[1;33m=\u001b[0m \u001b[1;34m'z'\u001b[0m\u001b[1;33m\u001b[0m\u001b[1;33m\u001b[0m\u001b[0m\n\u001b[0m",
            "\u001b[1;31mTypeError\u001b[0m: 'str' object does not support item assignment"
          ]
        }
      ],
      "source": [
        "palavra = \"teste\"\n",
        "palavra[2] = 'z'"
      ]
    },
    {
      "cell_type": "markdown",
      "metadata": {
        "id": "5E0VzElVGR5K"
      },
      "source": [
        "String **podem** ser fatiadas, como por exemplo, para mudar o valor de algum índice"
      ]
    },
    {
      "cell_type": "code",
      "execution_count": null,
      "metadata": {
        "id": "SheTSZqXGR5L",
        "outputId": "453f1891-6175-4494-e0be-b2fed7024195"
      },
      "outputs": [
        {
          "data": {
            "text/plain": [
              "'tezte'"
            ]
          },
          "execution_count": 90,
          "metadata": {},
          "output_type": "execute_result"
        }
      ],
      "source": [
        "nova_palavra = palavra[:2] + 'z' + palavra[3:]\n",
        "nova_palavra"
      ]
    },
    {
      "cell_type": "code",
      "execution_count": null,
      "metadata": {
        "id": "quG2RjirGR5L",
        "outputId": "9309775d-b3eb-49a5-c1ab-b5a9c39c2ee6"
      },
      "outputs": [
        {
          "name": "stdout",
          "output_type": "stream",
          "text": [
            "f\n",
            "e\n",
            "abcdef\n"
          ]
        }
      ],
      "source": [
        "palavra = 'abcdef'\n",
        "print(palavra[-1])\n",
        "print(palavra[-2])\n",
        "print(palavra[:]) # print(palavra)"
      ]
    },
    {
      "cell_type": "markdown",
      "metadata": {
        "id": "1Sxryu1GGR5O"
      },
      "source": [
        "**Pesquisar em Strings**\n"
      ]
    },
    {
      "cell_type": "code",
      "execution_count": null,
      "metadata": {
        "id": "f2J2c8x5GR5P",
        "outputId": "46dd6605-fae5-479e-8be1-6c8daa677e10"
      },
      "outputs": [
        {
          "data": {
            "text/plain": [
              "True"
            ]
          },
          "execution_count": 97,
          "metadata": {},
          "output_type": "execute_result"
        }
      ],
      "source": [
        "'b' in 'abc'"
      ]
    },
    {
      "cell_type": "code",
      "execution_count": null,
      "metadata": {
        "id": "mA2G1XVjGR5Q",
        "outputId": "2d668b80-6757-4a9e-be2c-7761e423fecd"
      },
      "outputs": [
        {
          "data": {
            "text/plain": [
              "False"
            ]
          },
          "execution_count": 99,
          "metadata": {},
          "output_type": "execute_result"
        }
      ],
      "source": [
        "'d' in 'abc'"
      ]
    },
    {
      "cell_type": "code",
      "execution_count": null,
      "metadata": {
        "id": "sCQMcUQdGR5Q",
        "outputId": "0c461c21-6aa8-4646-88ac-d3291ce2fc81"
      },
      "outputs": [
        {
          "data": {
            "text/plain": [
              "False"
            ]
          },
          "execution_count": 100,
          "metadata": {},
          "output_type": "execute_result"
        }
      ],
      "source": [
        "'b' not in 'abc'"
      ]
    },
    {
      "cell_type": "code",
      "execution_count": null,
      "metadata": {
        "id": "D8Nr1bE0GR5Q",
        "outputId": "d04ecfa7-9870-489f-ffc3-cec1c9631357"
      },
      "outputs": [
        {
          "data": {
            "text/plain": [
              "True"
            ]
          },
          "execution_count": 101,
          "metadata": {},
          "output_type": "execute_result"
        }
      ],
      "source": [
        "'d' not in 'abc'"
      ]
    },
    {
      "cell_type": "markdown",
      "metadata": {
        "id": "jEoHlmJXGR5R"
      },
      "source": [
        "**Concatenar Strings** (somar)"
      ]
    },
    {
      "cell_type": "code",
      "execution_count": null,
      "metadata": {
        "id": "D4N4u8zvGR5R"
      },
      "outputs": [],
      "source": [
        "string = 'Fe' + 'Li' + 'Pe'"
      ]
    },
    {
      "cell_type": "code",
      "execution_count": null,
      "metadata": {
        "id": "8boNgcG8GR5R",
        "outputId": "4f71cc4e-0083-4e9e-ef4a-070c68db85de"
      },
      "outputs": [
        {
          "data": {
            "text/plain": [
              "'FeLiPe'"
            ]
          },
          "execution_count": 103,
          "metadata": {},
          "output_type": "execute_result"
        }
      ],
      "source": [
        "string"
      ]
    },
    {
      "cell_type": "code",
      "execution_count": null,
      "metadata": {
        "id": "wbXN1bscGR5S",
        "outputId": "b6a43bb3-6c86-49d5-9a9d-9da95e10248d"
      },
      "outputs": [
        {
          "name": "stdout",
          "output_type": "stream",
          "text": [
            "Felipe\n"
          ]
        }
      ],
      "source": [
        "print('Fe'+'li'+'pe')"
      ]
    },
    {
      "cell_type": "markdown",
      "metadata": {
        "id": "3vWkWd-3GR5U"
      },
      "source": [
        "**Alterar entre minúsculo e maiúsculo**"
      ]
    },
    {
      "cell_type": "code",
      "execution_count": null,
      "metadata": {
        "id": "LLBhq1xgGR5U",
        "outputId": "339b9546-84e1-431d-dc51-0eccee06a10b"
      },
      "outputs": [
        {
          "data": {
            "text/plain": [
              "'Felipe'"
            ]
          },
          "execution_count": 105,
          "metadata": {},
          "output_type": "execute_result"
        }
      ],
      "source": [
        "string = 'Fe' + 'Li'.lower() + 'Pe'.lower()\n",
        "string"
      ]
    },
    {
      "cell_type": "code",
      "execution_count": null,
      "metadata": {
        "id": "wRcjNEtNGR5V",
        "outputId": "e032963b-e4c8-4246-c89f-8dae5df2cba3"
      },
      "outputs": [
        {
          "data": {
            "text/plain": [
              "'FELIPE'"
            ]
          },
          "execution_count": 106,
          "metadata": {},
          "output_type": "execute_result"
        }
      ],
      "source": [
        "string = 'Felipe'.upper()\n",
        "string"
      ]
    },
    {
      "cell_type": "markdown",
      "metadata": {
        "id": "d8-QGLmGGR5W"
      },
      "source": [
        "**Tamanho da string**"
      ]
    },
    {
      "cell_type": "code",
      "execution_count": null,
      "metadata": {
        "id": "lsHWGom_GR5W",
        "outputId": "91eb2026-d864-40ab-901b-7402b65600e9"
      },
      "outputs": [
        {
          "name": "stdout",
          "output_type": "stream",
          "text": [
            "5\n"
          ]
        }
      ],
      "source": [
        "s = 'teste'\n",
        "print(len(s))"
      ]
    },
    {
      "cell_type": "markdown",
      "metadata": {
        "id": "_lUAvKa_GR5X"
      },
      "source": [
        "**Checar se todos os caracteres são letras**"
      ]
    },
    {
      "cell_type": "code",
      "execution_count": null,
      "metadata": {
        "id": "JDyEdPvGGR5Y",
        "outputId": "3f36b6e3-d94b-4a7e-d509-e3ddf531a1e7"
      },
      "outputs": [
        {
          "name": "stdout",
          "output_type": "stream",
          "text": [
            "True\n",
            "False\n",
            "False\n",
            "False\n"
          ]
        }
      ],
      "source": [
        "print(\"abc\".isalpha()) \n",
        "print(\"1fg\".isalpha())\n",
        "print(\"123\".isalpha())\n",
        "print(\"++;-/\".isalpha())"
      ]
    },
    {
      "cell_type": "markdown",
      "metadata": {
        "id": "5fUAjdBZGR5Z"
      },
      "source": [
        "**Remover espaços em branco tanto inicio quanto no fim**"
      ]
    },
    {
      "cell_type": "code",
      "execution_count": null,
      "metadata": {
        "id": "z66RVNDfGR5a",
        "outputId": "aa7c458f-97ae-4aa8-ba2c-1240cdea0f30"
      },
      "outputs": [
        {
          "data": {
            "text/plain": [
              "'sobrando espaços'"
            ]
          },
          "execution_count": 113,
          "metadata": {},
          "output_type": "execute_result"
        }
      ],
      "source": [
        "\" sobrando espaços \".strip()"
      ]
    },
    {
      "cell_type": "code",
      "execution_count": null,
      "metadata": {
        "id": "nizvuih1GR5c",
        "outputId": "865a7527-be66-4a35-a0a6-a2aa97a819fa"
      },
      "outputs": [
        {
          "data": {
            "text/plain": [
              "'sobrando espaços'"
            ]
          },
          "execution_count": 114,
          "metadata": {},
          "output_type": "execute_result"
        }
      ],
      "source": [
        "'   sobrando espaços   '.strip()"
      ]
    },
    {
      "cell_type": "markdown",
      "metadata": {
        "id": "hBhaUupZGR5e"
      },
      "source": [
        "**Juntar os itens da string através de um delimitador**"
      ]
    },
    {
      "cell_type": "code",
      "execution_count": null,
      "metadata": {
        "id": "lDjwMOnhGR5f",
        "outputId": "6f2578e2-cdd4-44fe-92c9-77420f17c6ef"
      },
      "outputs": [
        {
          "data": {
            "text/plain": [
              "'a,b,c'"
            ]
          },
          "execution_count": 115,
          "metadata": {},
          "output_type": "execute_result"
        }
      ],
      "source": [
        "\",\".join(\"abc\") # Aqui faz sentido"
      ]
    },
    {
      "cell_type": "code",
      "execution_count": null,
      "metadata": {
        "id": "lBZLpcAXGR5g",
        "outputId": "70382954-5a56-4003-e6cf-9dd5d586954d"
      },
      "outputs": [
        {
          "data": {
            "text/plain": [
              "'a , b , c'"
            ]
          },
          "execution_count": 116,
          "metadata": {},
          "output_type": "execute_result"
        }
      ],
      "source": [
        "\" , \".join(\"abc\") # Aqui faz sentido"
      ]
    },
    {
      "cell_type": "code",
      "execution_count": null,
      "metadata": {
        "id": "P82r-BRXGR5h",
        "outputId": "f34d0e15-8222-41c8-fb7b-baaf7437f6d7"
      },
      "outputs": [
        {
          "data": {
            "text/plain": [
              "'a|letra: b|letra: c'"
            ]
          },
          "execution_count": 118,
          "metadata": {},
          "output_type": "execute_result"
        }
      ],
      "source": [
        "'|letra: '.join(\"abc\") # Não faz sentido"
      ]
    },
    {
      "cell_type": "markdown",
      "metadata": {
        "id": "y6SwtzB9GR5h"
      },
      "source": [
        "**Separar uma string através de um delimitador**"
      ]
    },
    {
      "cell_type": "code",
      "execution_count": null,
      "metadata": {
        "id": "3roPfAeVGR5i"
      },
      "outputs": [],
      "source": [
        "s = \"n o m e\""
      ]
    },
    {
      "cell_type": "code",
      "execution_count": null,
      "metadata": {
        "id": "aBi4OqmKGR5i",
        "outputId": "426c7135-9c12-4bc9-8da0-51c7179db7c9"
      },
      "outputs": [
        {
          "data": {
            "text/plain": [
              "['n', 'o', 'm', 'e']"
            ]
          },
          "execution_count": 121,
          "metadata": {},
          "output_type": "execute_result"
        }
      ],
      "source": [
        "s.split()"
      ]
    },
    {
      "cell_type": "code",
      "execution_count": null,
      "metadata": {
        "id": "mH72Oht-GR5j",
        "outputId": "8b53b997-27c8-4b8d-c925-847cb0a7f571"
      },
      "outputs": [
        {
          "data": {
            "text/plain": [
              "['n', 'o', 'm', 'e']"
            ]
          },
          "execution_count": 122,
          "metadata": {},
          "output_type": "execute_result"
        }
      ],
      "source": [
        "s = \"n,o,m,e\"\n",
        "s.split(\",\")"
      ]
    },
    {
      "cell_type": "code",
      "execution_count": null,
      "metadata": {
        "id": "vyOTdEMIGR5j",
        "outputId": "b117721f-bb3a-4dcf-9fe6-16af747021cf"
      },
      "outputs": [
        {
          "data": {
            "text/plain": [
              "['nome']"
            ]
          },
          "execution_count": 126,
          "metadata": {},
          "output_type": "execute_result"
        }
      ],
      "source": [
        "s = 'nome'\n",
        "s.split()"
      ]
    },
    {
      "cell_type": "markdown",
      "metadata": {
        "id": "pDW1Oi5PGR5k"
      },
      "source": [
        "## Listas dentro de listas\n",
        "Podemos criar quantas listas quisermos dentro de outras listas, bantando o elemento ser também uma lista ( Utilizando as barras [] )"
      ]
    },
    {
      "cell_type": "code",
      "execution_count": null,
      "metadata": {
        "id": "tSx74ZILGR5k"
      },
      "outputs": [],
      "source": [
        "lista_dentro_de_lista = [[1,2],[3,4]]"
      ]
    },
    {
      "cell_type": "code",
      "execution_count": null,
      "metadata": {
        "id": "bwL9Fmn0GR5l",
        "outputId": "aa51dd01-c4cc-4414-c9c1-5eb389751d5e"
      },
      "outputs": [
        {
          "data": {
            "text/plain": [
              "[1, 2]"
            ]
          },
          "execution_count": 4,
          "metadata": {},
          "output_type": "execute_result"
        }
      ],
      "source": [
        "lista_dentro_de_lista[0]"
      ]
    },
    {
      "cell_type": "code",
      "execution_count": null,
      "metadata": {
        "id": "8wGeFMIoGR5l",
        "outputId": "682d9940-11f8-4243-f10c-6a28c79f9fd1"
      },
      "outputs": [
        {
          "data": {
            "text/plain": [
              "1"
            ]
          },
          "execution_count": 5,
          "metadata": {},
          "output_type": "execute_result"
        }
      ],
      "source": [
        "lista_dentro_de_lista[0][0]"
      ]
    },
    {
      "cell_type": "code",
      "execution_count": null,
      "metadata": {
        "id": "n5VJydZ-GR5m",
        "outputId": "d6046ca0-5270-4186-9328-124c59910cb2"
      },
      "outputs": [
        {
          "data": {
            "text/plain": [
              "3"
            ]
          },
          "execution_count": 6,
          "metadata": {},
          "output_type": "execute_result"
        }
      ],
      "source": [
        "lista_dentro_de_lista[1][0]"
      ]
    },
    {
      "cell_type": "code",
      "execution_count": null,
      "metadata": {
        "id": "CcBxF5rUGR5m"
      },
      "outputs": [],
      "source": []
    }
  ],
  "metadata": {
    "kernelspec": {
      "display_name": "Python 3",
      "language": "python",
      "name": "python3"
    },
    "language_info": {
      "codemirror_mode": {
        "name": "ipython",
        "version": 3
      },
      "file_extension": ".py",
      "mimetype": "text/x-python",
      "name": "python",
      "nbconvert_exporter": "python",
      "pygments_lexer": "ipython3",
      "version": "3.7.3"
    },
    "colab": {
      "provenance": []
    }
  },
  "nbformat": 4,
  "nbformat_minor": 0
}